{
 "cells": [
  {
   "cell_type": "code",
   "execution_count": 1,
   "id": "major-cancer",
   "metadata": {
    "execution": {
     "iopub.execute_input": "2022-09-09T03:51:17.261304Z",
     "iopub.status.busy": "2022-09-09T03:51:17.261091Z",
     "iopub.status.idle": "2022-09-09T03:51:17.266024Z",
     "shell.execute_reply": "2022-09-09T03:51:17.265660Z",
     "shell.execute_reply.started": "2022-09-09T03:51:17.261259Z"
    },
    "tags": []
   },
   "outputs": [],
   "source": [
    "from pyspark.conf import SparkConf\n",
    "from pyspark import SparkContext\n",
    "from pyspark.sql import SparkSession"
   ]
  },
  {
   "cell_type": "code",
   "execution_count": 2,
   "id": "fd689fc1-d09f-4eaa-8b9d-70dfdbe8ff57",
   "metadata": {
    "execution": {
     "iopub.execute_input": "2022-09-09T03:51:17.649880Z",
     "iopub.status.busy": "2022-09-09T03:51:17.649704Z",
     "iopub.status.idle": "2022-09-09T03:51:17.655293Z",
     "shell.execute_reply": "2022-09-09T03:51:17.655002Z",
     "shell.execute_reply.started": "2022-09-09T03:51:17.649869Z"
    },
    "tags": []
   },
   "outputs": [
    {
     "data": {
      "text/plain": [
       "[('spark.driver.extraClassPath',\n",
       "  '/usr/local/lib/python3.9/dist-packages/sparkmonitor/listener_2.12.jar'),\n",
       " ('spark.extraListeners', 'sparkmonitor.listener.JupyterSparkMonitorListener')]"
      ]
     },
     "execution_count": 2,
     "metadata": {},
     "output_type": "execute_result"
    }
   ],
   "source": [
    "swan_spark_conf.getAll()"
   ]
  },
  {
   "cell_type": "code",
   "execution_count": 3,
   "id": "b0ffa5a9",
   "metadata": {
    "execution": {
     "iopub.execute_input": "2022-09-09T03:51:46.826533Z",
     "iopub.status.busy": "2022-09-09T03:51:46.826270Z",
     "iopub.status.idle": "2022-09-09T03:51:46.830271Z",
     "shell.execute_reply": "2022-09-09T03:51:46.829912Z",
     "shell.execute_reply.started": "2022-09-09T03:51:46.826520Z"
    },
    "tags": []
   },
   "outputs": [],
   "source": [
    "config = {\n",
    "    # Add the first 2 variables from swan_spark_conf\n",
    "    \"spark.extraListeners\": \"sparkmonitor.listener.JupyterSparkMonitorListener\",\n",
    "    \"spark.driver.extraClassPath\": \"/usr/local/lib/python3.9/dist-packages/sparkmonitor/listener_2.12.jar\",\n",
    "    \"spark.kubernetes.namespace\": \"minio\",\n",
    "    \"spark.kubernetes.container.image\": \"vensav/spark-notebook:3.3.0-scala_2.12-jre_17-slim-buster\",\n",
    "    \"spark.executor.instances\": \"2\",\n",
    "    \"spark.executor.memory\": \"1g\",\n",
    "    \"spark.executor.cores\": \"1\",\n",
    "    \"spark.driver.blockManager.port\": \"7777\",\n",
    "    \"spark.driver.port\": \"2222\",\n",
    "    \"spark.driver.host\": \"jupyter.minio\",\n",
    "    \"spark.driver.bindAddress\": \"0.0.0.0\",\n",
    "}\n",
    "\n",
    "\n",
    "def get_spark_session(app_name: str, conf: SparkConf):\n",
    "    conf.setMaster(\"k8s://https://kubernetes.default.svc.cluster.local\")\n",
    "    for key, value in config.items():\n",
    "        conf.set(key, value)    \n",
    "    return SparkSession.builder.appName(app_name).config(conf=conf).getOrCreate()\n"
   ]
  },
  {
   "cell_type": "code",
   "execution_count": 4,
   "id": "therapeutic-award",
   "metadata": {
    "execution": {
     "iopub.execute_input": "2022-09-09T03:51:47.257761Z",
     "iopub.status.busy": "2022-09-09T03:51:47.257506Z",
     "iopub.status.idle": "2022-09-09T03:51:47.261178Z",
     "shell.execute_reply": "2022-09-09T03:51:47.260887Z",
     "shell.execute_reply.started": "2022-09-09T03:51:47.257745Z"
    },
    "tags": []
   },
   "outputs": [],
   "source": [
    "def load_config(spark_context: SparkContext):\n",
    "\n",
    "    S3_HOST_URL = \"minio-1662250093-svc.minio:9000\"\n",
    "    S3_ACCESS_KEY = \"vensav-developer\"\n",
    "    S3_SECRET_KEY = \"vensav123\"\n",
    "\n",
    "    spark_context._jsc.hadoopConfiguration().set('spark.executor.extraJavaOptions=-Dcom.amazonaws.services.s3.enableV4', 'true')\n",
    "    spark_context._jsc.hadoopConfiguration().set('spark.driver.extraJavaOptions=-Dcom.amazonaws.services.s3.enableV4', 'true')\n",
    "    spark_context._jsc.hadoopConfiguration().set('spark.hadoop.com.amazonaws.services.s3.enableV4', 'true')\n",
    "    spark_context._jsc.hadoopConfiguration().set('fs.s3a.impl', 'org.apache.hadoop.fs.s3a.S3AFileSystem')\n",
    "    spark_context._jsc.hadoopConfiguration().set('fs.s3a.multipart.size', '104857600')\n",
    "    spark_context._jsc.hadoopConfiguration().set('fs.s3a.path.style.access', 'true')\n",
    "    #spark_context._jsc.hadoopConfiguration().set('spark.hadoop.fs.s3a.aws.credentials.provider', 'org.apache.hadoop.fs.s3a.AnonymousAWSCredentialsProvider')\n",
    "    spark_context._jsc.hadoopConfiguration().set('fs.s3a.endpoint', S3_HOST_URL)\n",
    "    spark_context._jsc.hadoopConfiguration().set('fs.s3a.access.key', S3_ACCESS_KEY)\n",
    "    spark_context._jsc.hadoopConfiguration().set('fs.s3a.secret.key', S3_SECRET_KEY)\n",
    "    spark_context._jsc.hadoopConfiguration().set('fs.s3a.connection.ssl.enabled', 'false')"
   ]
  },
  {
   "cell_type": "code",
   "execution_count": 5,
   "id": "august-casting",
   "metadata": {
    "execution": {
     "iopub.execute_input": "2022-09-09T03:51:48.632821Z",
     "iopub.status.busy": "2022-09-09T03:51:48.632645Z",
     "iopub.status.idle": "2022-09-09T03:51:54.916007Z",
     "shell.execute_reply": "2022-09-09T03:51:54.915582Z",
     "shell.execute_reply.started": "2022-09-09T03:51:48.632810Z"
    },
    "tags": []
   },
   "outputs": [
    {
     "name": "stdout",
     "output_type": "stream",
     "text": [
      "22/09/09 03:51:50 WARN NativeCodeLoader: Unable to load native-hadoop library for your platform... using builtin-java classes where applicable\n"
     ]
    },
    {
     "name": "stderr",
     "output_type": "stream",
     "text": [
      "Setting default log level to \"WARN\".\n",
      "To adjust logging level use sc.setLogLevel(newLevel). For SparkR, use setLogLevel(newLevel).\n",
      "INFO:SparkMonitorKernel:Client Connected ('127.0.0.1', 57230)\n"
     ]
    }
   ],
   "source": [
    "spark = get_spark_session(\"test-app\", SparkConf())"
   ]
  },
  {
   "cell_type": "code",
   "execution_count": 6,
   "id": "elect-tobacco",
   "metadata": {
    "execution": {
     "iopub.execute_input": "2022-09-09T03:51:57.636225Z",
     "iopub.status.busy": "2022-09-09T03:51:57.635864Z",
     "iopub.status.idle": "2022-09-09T03:51:57.641338Z",
     "shell.execute_reply": "2022-09-09T03:51:57.640990Z",
     "shell.execute_reply.started": "2022-09-09T03:51:57.636212Z"
    },
    "tags": []
   },
   "outputs": [],
   "source": [
    "load_config(spark.sparkContext)"
   ]
  },
  {
   "cell_type": "code",
   "execution_count": 7,
   "id": "40177b48",
   "metadata": {
    "execution": {
     "iopub.execute_input": "2022-09-09T03:51:58.375371Z",
     "iopub.status.busy": "2022-09-09T03:51:58.375151Z",
     "iopub.status.idle": "2022-09-09T03:52:05.202002Z",
     "shell.execute_reply": "2022-09-09T03:52:05.201350Z",
     "shell.execute_reply.started": "2022-09-09T03:51:58.375358Z"
    },
    "tags": []
   },
   "outputs": [
    {
     "name": "stdout",
     "output_type": "stream",
     "text": [
      "22/09/09 03:51:58 WARN MetricsConfig: Cannot locate configuration: tried hadoop-metrics2-s3a-file-system.properties,hadoop-metrics2.properties\n"
     ]
    },
    {
     "name": "stderr",
     "output_type": "stream",
     "text": [
      "[Stage 1:>                                                          (0 + 1) / 1]\r"
     ]
    },
    {
     "name": "stdout",
     "output_type": "stream",
     "text": [
      "+---+------------------+\n",
      "| id|       avg(amount)|\n",
      "+---+------------------+\n",
      "|  1|1566.6666666666667|\n",
      "|  3|            3900.0|\n",
      "|  2|2733.3333333333335|\n",
      "+---+------------------+\n",
      "\n"
     ]
    },
    {
     "name": "stderr",
     "output_type": "stream",
     "text": [
      "                                                                                \r"
     ]
    }
   ],
   "source": [
    "try:\n",
    "    dataFrame = spark.read.json('s3a://test-bucket/*')\n",
    "    average = dataFrame.groupBy(\"id\").agg({'amount': 'avg'})\n",
    "    average.show()\n",
    "except Exception as exp:\n",
    "    print(exp)"
   ]
  },
  {
   "cell_type": "code",
   "execution_count": null,
   "id": "e57816d5",
   "metadata": {
    "tags": []
   },
   "outputs": [],
   "source": [
    "spark.stop()"
   ]
  },
  {
   "cell_type": "code",
   "execution_count": null,
   "id": "62fa3ee6",
   "metadata": {},
   "outputs": [],
   "source": []
  }
 ],
 "metadata": {
  "kernelspec": {
   "display_name": "Python 3 (ipykernel)",
   "language": "python",
   "name": "python3"
  },
  "language_info": {
   "codemirror_mode": {
    "name": "ipython",
    "version": 3
   },
   "file_extension": ".py",
   "mimetype": "text/x-python",
   "name": "python",
   "nbconvert_exporter": "python",
   "pygments_lexer": "ipython3",
   "version": "3.9.2"
  }
 },
 "nbformat": 4,
 "nbformat_minor": 5
}
